{
  "nbformat": 4,
  "nbformat_minor": 0,
  "metadata": {
    "colab": {
      "provenance": []
    },
    "kernelspec": {
      "name": "python3",
      "display_name": "Python 3"
    },
    "language_info": {
      "name": "python"
    }
  },
  "cells": [
    {
      "cell_type": "markdown",
      "source": [
        "# Data Types and Structures  "
      ],
      "metadata": {
        "id": "0JNELdk3AdVL"
      }
    },
    {
      "cell_type": "markdown",
      "source": [
        "Q1 What are data structures, and why are they important?\n",
        "\n",
        "-  Data structures are ways of organizing and storing data in a computer so that it can be accessed and modified efficiently."
      ],
      "metadata": {
        "id": "-QyfmwrAA72U"
      }
    },
    {
      "cell_type": "markdown",
      "source": [
        "Q2  Explain the difference between mutable and immutable data types with examples?\n",
        "\n",
        "- Mutable data types .\n",
        "can be changed after they are created. Example inculed list,dictionaries,and sets.for instance, you can add or remove elements from a list after it's been defined.\n",
        "- Immutable data types. cannot be changed after they are created.Example\n",
        "include numbers (integers, floats),strings,and tuples. If you \"modify\" an immutable object, you are actually creating a new object. for Example, changing a character in string result in a new string .\n"
      ],
      "metadata": {
        "id": "6NM1volpCeIq"
      }
    },
    {
      "cell_type": "markdown",
      "source": [
        "Q3 What are the main differences between lists and tuples in Python ?\n",
        "\n",
        "- Mutablility: List are mutable (changeable), while tuple are immutable (unchangeable).\n",
        "- Syntax : List are defined using square brackets [], while tuples are defind using parentheses()."
      ],
      "metadata": {
        "id": "Hgx97cj7Ea-K"
      }
    },
    {
      "cell_type": "markdown",
      "source": [
        "Q4  Describe how dictionaries store data.\n",
        "\n",
        "- dictionaries store data as key-value pairs. Each key must be unique and immutable(e.g., strings, numbers,tuples), and it maps to a corresponding value , which can be any data type. Dictionaries use hash tables internally for efficient data retrieval based on keys."
      ],
      "metadata": {
        "id": "n4BdYOpLFVVM"
      }
    },
    {
      "cell_type": "markdown",
      "source": [
        "Q5  Why might you use a set intstead of list in python?\n",
        "\n",
        "- you might use a set instead of a list when .\n",
        "- you need to store a collection of unique items, as sets automatically handle duplicate removal.\n",
        "- you need to perform fast membership testing ( checking if an item exists in the collection).\n",
        "- you need to perform mathematical set operations like union, intersection, and difference.\n"
      ],
      "metadata": {
        "id": "5ljnWf_cGXpb"
      }
    },
    {
      "cell_type": "markdown",
      "source": [
        "Q5  Why might you use a set intstead of list in python?\n",
        "\n",
        "- you might use a set instead of a list when .\n",
        "- you need to store a collection of unique items, as sets automatically handle duplicate removal.\n",
        "- you need to perform fast membership testing ( checking if an item exists in the collection).\n",
        "- you need to perform mathematical set operations like union, intersection, and difference.\n"
      ],
      "metadata": {
        "id": "XxYgQ4BeC3Nf"
      }
    },
    {
      "cell_type": "markdown",
      "source": [
        "Q6 What is a string in Python, and how is it different from a list?\n",
        "- A string in python is a sequence of characters, used to represent text. it is an immutable data type .\n",
        "- Differences from list\n",
        " - Mutability\n",
        "\n",
        " strings are immutable, while lists are mutable.\n",
        "  - Elements\n",
        "  \n",
        "   strings contain characters, while lists can contain elements of any data type.\n",
        "    \n",
        "  - Purpose\n",
        "\n",
        "  string are for text , lists for ordered collection of various data.\n",
        "\n"
      ],
      "metadata": {
        "id": "N35ZKiYVLHC4"
      }
    },
    {
      "cell_type": "markdown",
      "source": [
        "Q 7   How do tuples ensure data integrity in Python?\n",
        "\n",
        "- Tuples ensure data integrity because they are immutable. once a tuple is created, its elements cannot be changed,added, or removed . This prevents accidental modification of the data , making them suitable for storing fixed collections of related items where consistency is critical.\n"
      ],
      "metadata": {
        "id": "-UJQ90keMmAP"
      }
    },
    {
      "cell_type": "markdown",
      "source": [
        "Q8 What is a hash table, and how does it relate to dictionaries in Python?\n",
        "\n",
        "- A hash table is data structure that implements an associative arry, mapping keys to values. It uses a hash function to compute an index into an array of buckets or slots, from which the desired value can be found .\n",
        "Dictionaries in python are implementd using hash tables, allowing for efficient average-case time complexity for operations like insertion, delection , and lookup ."
      ],
      "metadata": {
        "id": "vsyNNu_rNipN"
      }
    },
    {
      "cell_type": "markdown",
      "source": [
        "Q 9 Can lists contain different data types in Python?\n",
        "\n",
        "- Yes , lists in python can contain elements of different data types . For example , a single list can contain integers , strings , floats and even other lists or dictionaries."
      ],
      "metadata": {
        "id": "-7PZP2KjO26g"
      }
    },
    {
      "cell_type": "markdown",
      "source": [
        "Q 10  Explain why strings are immutable in Python.\n",
        "\n",
        "- Strings are immutable in python because this design choice offers several benefits .\n",
        "\n",
        "Performance\n",
        "\n",
        "  - immutablility allow for certain optimizations, as the interpreter knows the string's content won\"t change.\n",
        "   \n",
        "  Thread safety\n",
        "     \n",
        "  - Immutable objects are inherently thread safe, as multiple thereads can access them without worrying about data corruption .\n",
        "\n",
        "  Hashability\n",
        "\n",
        "  - Immutable objects can be used as dictionary keys because their hash value remains constant."
      ],
      "metadata": {
        "id": "f0Tr9aYaP1Dy"
      }
    },
    {
      "cell_type": "markdown",
      "source": [
        "Q 11  What advantages do dictionaries offer over lists for certain tasks?\n",
        "\n",
        "- you need to access data  by a meaningful key rather than by an integer index .\n",
        "- you need fast lookups, insertions, and deletions based on keys.\n",
        "- you need to represent relationships between data using key-value pairs."
      ],
      "metadata": {
        "id": "3WG1G9G1SIZj"
      }
    },
    {
      "cell_type": "markdown",
      "source": [
        "Q 12 Describe a scenario where using a tuple would be preferable over a list.\n",
        "\n",
        "- A scenario where a tuple would be preferable is when representing a fixed collection  of related data that should not be changed, such as geographical coordinates (latitude, longitude ), a data (year , month , day ), or record in database where the fields are fixed. for example,"
      ],
      "metadata": {
        "id": "RlQGdFQcTedv"
      }
    },
    {
      "cell_type": "code",
      "source": [
        "coordinates=(34.0522,-118.2437)"
      ],
      "metadata": {
        "id": "MaX5KieBVLk-"
      },
      "execution_count": null,
      "outputs": []
    },
    {
      "cell_type": "markdown",
      "source": [
        "Q 13  How do sets handle duplicate values in Python?\n",
        "- Sets  automatically handle duplicatie valuse by storing only unique elements . if you try to add a duplicate element to a set , it will simply be ignored,and the set will remain unchanged .  "
      ],
      "metadata": {
        "id": "w5vuZYtLVB27"
      }
    },
    {
      "cell_type": "markdown",
      "source": [
        "Q 14   How does the “in” keyword work differently for lists and dictionaries?\n",
        "\n",
        "- Lists\n",
        "\n",
        " The \"in\" keyword checks for the presence of a value within the list's elements .\n",
        "- Dictionaries\n",
        "\n",
        " The \"in\" keyword check for the presence of a key within the dictionary's key. To check for value,  you would need to iterate through the dictionary's values or use valu in dictionary. values()."
      ],
      "metadata": {
        "id": "00yTT2-AXE1e"
      }
    },
    {
      "cell_type": "markdown",
      "source": [
        "Q 15  Can you modify the elements of a tuple? Explain why or why not.\n",
        "-  No , you cannot modify the elements of a tuple because tuples are immutable data types. once a tuple is created, its contents are fixed . any operation that appers to \"modify' a tuple actually creates a new tuple with the desired changes .  "
      ],
      "metadata": {
        "id": "N-VTWbA4YgGi"
      }
    },
    {
      "cell_type": "markdown",
      "source": [
        "Q16 What is a nested dictionary, and give an example of its use case ?\n",
        " - a nested dictionary is a dictionary where the values are themselves other dictionaries.\n",
        " example use case  representing hierarchical data like a database of users, where each user has attributes stored in their own dictionary ."
      ],
      "metadata": {
        "id": "wo9bUZLlZYQ-"
      }
    },
    {
      "cell_type": "code",
      "source": [
        "{'user1':{'name':'alice','age':30},'user2':{'name':'bob','age':25}}\n",
        "\n"
      ],
      "metadata": {
        "id": "Ab6st2KGaTbT",
        "colab": {
          "base_uri": "https://localhost:8080/"
        },
        "outputId": "3a25b585-f068-4540-a0ac-8738e8f61568"
      },
      "execution_count": null,
      "outputs": [
        {
          "output_type": "execute_result",
          "data": {
            "text/plain": [
              "{'user1': {'name': 'alice', 'age': 30}, 'user2': {'name': 'bob', 'age': 25}}"
            ]
          },
          "metadata": {},
          "execution_count": 1
        }
      ]
    },
    {
      "cell_type": "markdown",
      "source": [
        " Q 17 Describe the time complexity of accessing elements in a dictionary.\n",
        " - The average-case time complexity of accessing element in dictionary is o(1) (constant time.). This is because dictionarise use hash tables, allowing for direct access to element based in their hash value. In the worst-case scenario 9due to hash collisions), the time complexity can degrade to O(n)\n",
        " (linear time )' but this is rare in practice with well-designed hash functions.\n",
        "  "
      ],
      "metadata": {
        "id": "c_ORBo1ibNGt"
      }
    },
    {
      "cell_type": "markdown",
      "source": [
        "Q18 In what situations are lists preferred over dictionaries?\n",
        "\n",
        "-  The order of elements is important.\n",
        "- You need to access element by numerical index.\n",
        "- You have a collection of items where the primary way to access them is by their position."
      ],
      "metadata": {
        "id": "s-66VfuNcn8d"
      }
    },
    {
      "cell_type": "markdown",
      "source": [
        "Q 19  Why are dictionaries considered unordered, and how does that affect data retrieval?\n",
        "\n",
        "-  Historically, dictionaries in python versions prior to 3.7 were explicitly unordered,meaning the order of insertion was not preservesd. while python 3.7+ preserves insertion order, dictionaries  are still conceptually considered unordered in terms of their core design and how they are typically used for key-based lookups rather than sequential access. This doesn't significantly affect data retrieval by key , as retrieval is based on hashing the key , not its position ."
      ],
      "metadata": {
        "id": "nOYMZm0FeCVc"
      }
    },
    {
      "cell_type": "markdown",
      "source": [
        "Q 20 Explain the difference between a list and a dictionary in terms of data retrieval.\n",
        "\n",
        " -  Lists\n",
        "  Data retrieval is primarily  done by numerical index (position).you access element using list_name[index].\n",
        "- Dictionaries  \n",
        " Data retrieval is primarily done by key. you access value using\n",
        " dictionary_name[key].\n",
        "   "
      ],
      "metadata": {
        "id": "SIeRzrO2f-yF"
      }
    },
    {
      "cell_type": "markdown",
      "source": [
        "# Practical Questions"
      ],
      "metadata": {
        "id": "lvYHwHuoiRIj"
      }
    },
    {
      "cell_type": "markdown",
      "source": [
        "Q 1 Write a code to create a string with your name and print it?"
      ],
      "metadata": {
        "id": "xaIilnLAAl1t"
      }
    },
    {
      "cell_type": "code",
      "source": [
        "my_name = \"Janvi mane \"# replace \" your name\" with your actul name\n",
        "print(my_name)"
      ],
      "metadata": {
        "colab": {
          "base_uri": "https://localhost:8080/"
        },
        "id": "wUyUxPOURifS",
        "outputId": "bfd276b0-7a3a-4027-9c59-db7fa5810dd8"
      },
      "execution_count": null,
      "outputs": [
        {
          "output_type": "stream",
          "name": "stdout",
          "text": [
            "Janvi mane \n"
          ]
        }
      ]
    },
    {
      "cell_type": "markdown",
      "source": [
        "Q2  Write a code to find the length of the string \"Hello World\"."
      ],
      "metadata": {
        "id": "KU0u9SJARlAD"
      }
    },
    {
      "cell_type": "code",
      "source": [
        "s=\"Hello world\"\n",
        "length= len(s)\n",
        "print(length)"
      ],
      "metadata": {
        "colab": {
          "base_uri": "https://localhost:8080/"
        },
        "id": "Hb6T5zqERsdV",
        "outputId": "d5206aea-40bf-4b13-a872-b7c21f57ea00"
      },
      "execution_count": null,
      "outputs": [
        {
          "output_type": "stream",
          "name": "stdout",
          "text": [
            "11\n"
          ]
        }
      ]
    },
    {
      "cell_type": "markdown",
      "source": [
        "Q 3 Write a code to slice the first 3 characters from the string \"Python Programming\"."
      ],
      "metadata": {
        "id": "d3vG5He4RtPN"
      }
    },
    {
      "cell_type": "code",
      "source": [
        "s=\"python programming\"\n",
        "sliced_s=s[:3]\n",
        "print(sliced_s)"
      ],
      "metadata": {
        "colab": {
          "base_uri": "https://localhost:8080/"
        },
        "id": "wfQ2J5c6RzEh",
        "outputId": "d0af0e44-77d6-4a00-813a-73c7983307a2"
      },
      "execution_count": null,
      "outputs": [
        {
          "output_type": "stream",
          "name": "stdout",
          "text": [
            "pyt\n"
          ]
        }
      ]
    },
    {
      "cell_type": "markdown",
      "source": [
        "Q4  Write a code to convert the string \"hello\" to uppercase."
      ],
      "metadata": {
        "id": "H67Wv9WKRzph"
      }
    },
    {
      "cell_type": "code",
      "source": [
        "s = \"hello\"\n",
        "uppercase_s=s.upper()\n",
        "print(uppercase_s)\n"
      ],
      "metadata": {
        "colab": {
          "base_uri": "https://localhost:8080/"
        },
        "id": "k8JcGGjIR6z_",
        "outputId": "d58a6d59-3f38-4f61-f89a-5ff5f971d1a8"
      },
      "execution_count": null,
      "outputs": [
        {
          "output_type": "stream",
          "name": "stdout",
          "text": [
            "HELLO\n"
          ]
        }
      ]
    },
    {
      "cell_type": "markdown",
      "source": [
        "Q 5 Write a code to replace the word \"apple\" with \"orange\" in the string \"I like apple\"."
      ],
      "metadata": {
        "id": "C_OYcib5R7eN"
      }
    },
    {
      "cell_type": "code",
      "source": [
        "s= \"I like apple\"\n",
        "new_s=s.replace(\"apple\",\"orange\")\n",
        "print(new_s)"
      ],
      "metadata": {
        "colab": {
          "base_uri": "https://localhost:8080/"
        },
        "id": "76P7rptoSHpS",
        "outputId": "b2377d33-d594-4d5f-f056-238c2988d015"
      },
      "execution_count": null,
      "outputs": [
        {
          "output_type": "stream",
          "name": "stdout",
          "text": [
            "I like orange\n"
          ]
        }
      ]
    },
    {
      "cell_type": "markdown",
      "source": [
        "Q 6 Write a code to create a list with numbers 1 to 5 and print it.\n"
      ],
      "metadata": {
        "id": "TQRKzGqwSIZk"
      }
    },
    {
      "cell_type": "code",
      "source": [
        "my_list=[1,2,3,4,5]\n",
        "print(my_list)"
      ],
      "metadata": {
        "colab": {
          "base_uri": "https://localhost:8080/"
        },
        "id": "F4uBeY9bSZmF",
        "outputId": "8c3e74c9-20cb-44ba-9235-357698225823"
      },
      "execution_count": null,
      "outputs": [
        {
          "output_type": "stream",
          "name": "stdout",
          "text": [
            "[1, 2, 3, 4, 5]\n"
          ]
        }
      ]
    },
    {
      "cell_type": "markdown",
      "source": [
        "Q 7 Write a code to append the number 10 to the list [1, 2, 3, 4]."
      ],
      "metadata": {
        "id": "fnkdXb8xSaRl"
      }
    },
    {
      "cell_type": "code",
      "source": [
        "my_list=[1,2,3,4]\n",
        "my_list.append(10)\n",
        "print(my_list)"
      ],
      "metadata": {
        "colab": {
          "base_uri": "https://localhost:8080/"
        },
        "id": "PPLamXGiSgbA",
        "outputId": "c5589e89-49fa-4670-d096-8ab7545ca383"
      },
      "execution_count": null,
      "outputs": [
        {
          "output_type": "stream",
          "name": "stdout",
          "text": [
            "[1, 2, 3, 4, 10]\n"
          ]
        }
      ]
    },
    {
      "cell_type": "markdown",
      "source": [
        "Q 8  Write a code to remove the number 3 from the list [1, 2, 3, 4, 5].\n"
      ],
      "metadata": {
        "id": "libRw92rSft-"
      }
    },
    {
      "cell_type": "code",
      "source": [
        "my_list=[1,2,3,4,5]\n",
        "my_list.remove(3)\n",
        "print(my_list)"
      ],
      "metadata": {
        "colab": {
          "base_uri": "https://localhost:8080/"
        },
        "id": "foJYgq8XSsr1",
        "outputId": "7cf5bd33-85e4-4620-a074-bc4a250e72b7"
      },
      "execution_count": null,
      "outputs": [
        {
          "output_type": "stream",
          "name": "stdout",
          "text": [
            "[1, 2, 4, 5]\n"
          ]
        }
      ]
    },
    {
      "cell_type": "markdown",
      "source": [
        "Q 9 Write a code to access the second element in the list ['a', 'b', 'c', 'd']."
      ],
      "metadata": {
        "id": "7c3AED_jStJ4"
      }
    },
    {
      "cell_type": "code",
      "source": [
        "my_list=['a','b','c','d']\n",
        "second_element=my_list[1]\n",
        "print(second_element)"
      ],
      "metadata": {
        "colab": {
          "base_uri": "https://localhost:8080/"
        },
        "id": "6y_58lRGS3sd",
        "outputId": "e047eb3c-3ab8-4b76-a524-7511be68a216"
      },
      "execution_count": null,
      "outputs": [
        {
          "output_type": "stream",
          "name": "stdout",
          "text": [
            "b\n"
          ]
        }
      ]
    },
    {
      "cell_type": "markdown",
      "source": [
        "Q 10  Write a code to reverse the list [10, 20, 30, 40, 50]."
      ],
      "metadata": {
        "id": "Yi-iAvl3S4Ko"
      }
    },
    {
      "cell_type": "code",
      "source": [
        "my_list=[10,20,30,40,50]\n",
        "my_list.reverse()\n",
        "print(my_list)"
      ],
      "metadata": {
        "colab": {
          "base_uri": "https://localhost:8080/"
        },
        "id": "BtKudeIQS_Te",
        "outputId": "22bf34f4-5b57-4e5d-cce4-cead7bd57713"
      },
      "execution_count": null,
      "outputs": [
        {
          "output_type": "stream",
          "name": "stdout",
          "text": [
            "[50, 40, 30, 20, 10]\n"
          ]
        }
      ]
    },
    {
      "cell_type": "markdown",
      "source": [
        "Q 11 Write a code to create a tuple with the elements 100, 200, 300 and print it."
      ],
      "metadata": {
        "id": "r9W1KFOpS_0r"
      }
    },
    {
      "cell_type": "code",
      "source": [
        "my_tuple=(100,200,300)\n",
        "print(my_tuple)"
      ],
      "metadata": {
        "colab": {
          "base_uri": "https://localhost:8080/"
        },
        "id": "afPrMszcTI5O",
        "outputId": "9b5f1684-b23a-4e1d-8ede-6c21750941f7"
      },
      "execution_count": null,
      "outputs": [
        {
          "output_type": "stream",
          "name": "stdout",
          "text": [
            "(100, 200, 300)\n"
          ]
        }
      ]
    },
    {
      "cell_type": "markdown",
      "source": [
        "Q 12 Write a code to access the second-to-last element of the tuple ('red', 'green', 'blue', 'yellow')."
      ],
      "metadata": {
        "id": "xm3eM9yrTJkS"
      }
    },
    {
      "cell_type": "code",
      "source": [
        "my_tuple=('red','green','blue','yellow')\n",
        "second_to_last=my_tuple[-2]\n",
        "print(second_to_last)"
      ],
      "metadata": {
        "colab": {
          "base_uri": "https://localhost:8080/"
        },
        "id": "UTaCiu9nTPb9",
        "outputId": "fe31e7d8-9c82-4fcc-a743-9a24502da2f2"
      },
      "execution_count": null,
      "outputs": [
        {
          "output_type": "stream",
          "name": "stdout",
          "text": [
            "blue\n"
          ]
        }
      ]
    },
    {
      "cell_type": "markdown",
      "source": [
        "Q 13 Write a code to find the minimum number in the tuple (10, 20, 5, 15)."
      ],
      "metadata": {
        "id": "eWGzxPh3TQAy"
      }
    },
    {
      "cell_type": "code",
      "source": [
        "my_tuple=(10,20,5,15)\n",
        "minimum_number=min(my_tuple)\n",
        "print(minimum_number)"
      ],
      "metadata": {
        "colab": {
          "base_uri": "https://localhost:8080/"
        },
        "id": "pqDHKP4ATXzZ",
        "outputId": "fad35370-f3c5-4f1e-c267-6b8c04aeede4"
      },
      "execution_count": null,
      "outputs": [
        {
          "output_type": "stream",
          "name": "stdout",
          "text": [
            "5\n"
          ]
        }
      ]
    },
    {
      "cell_type": "markdown",
      "source": [
        "Q14 Write a code to find the index of the element \"cat\" in the tuple ('dog', 'cat', 'rabbit')."
      ],
      "metadata": {
        "id": "jeSSlDc3TYfD"
      }
    },
    {
      "cell_type": "code",
      "source": [
        "my_tuple=('dog','cat','ribbit')\n",
        "index_of_cat=my_tuple.index('cat')\n",
        "print(index_of_cat)"
      ],
      "metadata": {
        "colab": {
          "base_uri": "https://localhost:8080/"
        },
        "id": "mC-9mTXeTmcq",
        "outputId": "4a002d67-21fe-4af9-ffa4-c0dae3445d12"
      },
      "execution_count": null,
      "outputs": [
        {
          "output_type": "stream",
          "name": "stdout",
          "text": [
            "1\n"
          ]
        }
      ]
    },
    {
      "cell_type": "markdown",
      "source": [
        "Q 15 Write a code to create a tuple containing three different fruits and check if \"kiwi\" is in it ."
      ],
      "metadata": {
        "id": "TlkmzlNpTnJB"
      }
    },
    {
      "cell_type": "code",
      "source": [
        "fruits_tuple=('apple','banana','orange')\n",
        "is_kiwi_present='kiwi' in fruits_tuple\n",
        "print(is_kiwi_present)"
      ],
      "metadata": {
        "colab": {
          "base_uri": "https://localhost:8080/"
        },
        "id": "3qpo6qMRTujW",
        "outputId": "13f1d60e-053d-43e6-f8fb-a48ce00b5fc5"
      },
      "execution_count": null,
      "outputs": [
        {
          "output_type": "stream",
          "name": "stdout",
          "text": [
            "False\n"
          ]
        }
      ]
    },
    {
      "cell_type": "markdown",
      "source": [
        "Q 16 Write a code to create a set with the elements 'a', 'b', 'c' and print it."
      ],
      "metadata": {
        "id": "RH0HjEd9TvJp"
      }
    },
    {
      "cell_type": "code",
      "source": [
        "my_set={'a','b','c'}\n",
        "print(my_set)"
      ],
      "metadata": {
        "colab": {
          "base_uri": "https://localhost:8080/"
        },
        "id": "KADwZQNNT0Jl",
        "outputId": "53afa071-f16c-4447-af5c-2653889fafa8"
      },
      "execution_count": null,
      "outputs": [
        {
          "output_type": "stream",
          "name": "stdout",
          "text": [
            "{'a', 'b', 'c'}\n"
          ]
        }
      ]
    },
    {
      "cell_type": "markdown",
      "source": [
        "Q 17  Write a code to clear all elements from the set {1, 2, 3, 4, 5}."
      ],
      "metadata": {
        "id": "PxYcOXQfZ9-D"
      }
    },
    {
      "cell_type": "code",
      "source": [
        "my_set = {1,2,3,4,5}\n",
        "my_set.clear()\n",
        "print(my_set)"
      ],
      "metadata": {
        "colab": {
          "base_uri": "https://localhost:8080/"
        },
        "id": "JHmBlrBTaTW5",
        "outputId": "5c1f7f67-264d-46d1-fc53-de01a8e86bab"
      },
      "execution_count": null,
      "outputs": [
        {
          "output_type": "stream",
          "name": "stdout",
          "text": [
            "set()\n"
          ]
        }
      ]
    },
    {
      "cell_type": "markdown",
      "source": [
        "Q 18. Write a code to remove the element 4 from the set {1, 2, 3, 4}."
      ],
      "metadata": {
        "id": "wJYI67pOaT0U"
      }
    },
    {
      "cell_type": "code",
      "source": [
        "my_set={1,2,3,4,}\n",
        "my_set.remove(4)\n",
        "print(my_set)"
      ],
      "metadata": {
        "colab": {
          "base_uri": "https://localhost:8080/"
        },
        "id": "ONajUWt2aXwG",
        "outputId": "f5ebd3c8-c561-47d5-b317-360ccc31ed61"
      },
      "execution_count": null,
      "outputs": [
        {
          "output_type": "stream",
          "name": "stdout",
          "text": [
            "{1, 2, 3}\n"
          ]
        }
      ]
    },
    {
      "cell_type": "markdown",
      "source": [
        "Q 19. Write a code to find the union of two sets {1, 2, 3} and {3, 4, 5}."
      ],
      "metadata": {
        "id": "R5nWa7lTaYNt"
      }
    },
    {
      "cell_type": "code",
      "source": [
        "set1={1,2,3}\n",
        "set2={3,4,5}\n",
        "union_set=set1.union(set2)\n",
        "print(union_set)"
      ],
      "metadata": {
        "colab": {
          "base_uri": "https://localhost:8080/"
        },
        "id": "uaxXvj3xado3",
        "outputId": "0f961203-f6a9-4d6f-8081-a6e1e74a86d7"
      },
      "execution_count": null,
      "outputs": [
        {
          "output_type": "stream",
          "name": "stdout",
          "text": [
            "{1, 2, 3, 4, 5}\n"
          ]
        }
      ]
    },
    {
      "cell_type": "markdown",
      "source": [
        " Q20. Write a code to find the intersection of two sets {1, 2, 3} and {2, 3, 4}."
      ],
      "metadata": {
        "id": "LrRO6mzSaeGE"
      }
    },
    {
      "cell_type": "code",
      "source": [
        "set1={1,2,3}\n",
        "set2={2,3,4}\n",
        "interesection_set=set1.intersection(set2)\n",
        "print(interesection_set)"
      ],
      "metadata": {
        "colab": {
          "base_uri": "https://localhost:8080/"
        },
        "id": "PHijrT4FalTz",
        "outputId": "5d2c0aa3-bd6b-4ccb-95ee-f323d4e2a0ce"
      },
      "execution_count": null,
      "outputs": [
        {
          "output_type": "stream",
          "name": "stdout",
          "text": [
            "{2, 3}\n"
          ]
        }
      ]
    },
    {
      "cell_type": "markdown",
      "source": [
        "Q 21 . Write a code to create a dictionary with the keys \"name\", \"age\", and \"city\", and print it."
      ],
      "metadata": {
        "id": "Wrhheow3alxv"
      }
    },
    {
      "cell_type": "code",
      "source": [
        "my_dict={\"name\":\"john\",\"age\":30,\"city\":\"New york\"}\n",
        "print(my_dict)"
      ],
      "metadata": {
        "colab": {
          "base_uri": "https://localhost:8080/"
        },
        "id": "ChLcF0Yuarmv",
        "outputId": "55b07fc0-8a1e-40c6-8ef2-74586cac0ab0"
      },
      "execution_count": null,
      "outputs": [
        {
          "output_type": "stream",
          "name": "stdout",
          "text": [
            "{'name': 'john', 'age': 30, 'city': 'New york'}\n"
          ]
        }
      ]
    },
    {
      "cell_type": "markdown",
      "source": [
        "Q 22 . Write a code to add a new key-value pair \"country\": \"USA\" to the dictionary {'name': 'John', 'age': 25}."
      ],
      "metadata": {
        "id": "ZhPMBxZVasR2"
      }
    },
    {
      "cell_type": "code",
      "source": [
        "my_dict={'name':'john','age':25}\n",
        "my_dict['country']='USA'\n",
        "print(my_dict)"
      ],
      "metadata": {
        "colab": {
          "base_uri": "https://localhost:8080/"
        },
        "id": "K4jG1lyIaxXH",
        "outputId": "97893933-d393-4029-b8f1-ca238652acea"
      },
      "execution_count": null,
      "outputs": [
        {
          "output_type": "stream",
          "name": "stdout",
          "text": [
            "{'name': 'john', 'age': 25, 'country': 'USA'}\n"
          ]
        }
      ]
    },
    {
      "cell_type": "markdown",
      "source": [
        "Q23 Write a code to access the value associated with the key \"name\" in the dictionary {'name': 'Alice', 'age': 30}"
      ],
      "metadata": {
        "id": "5CzpwIXeaxyh"
      }
    },
    {
      "cell_type": "code",
      "source": [
        "from os import name\n",
        "my_dict={'name':'Alice','age':30}\n",
        "name_value=my_dict['name']\n",
        "print(name_value)"
      ],
      "metadata": {
        "colab": {
          "base_uri": "https://localhost:8080/"
        },
        "id": "wLnZRFtIa2Lo",
        "outputId": "4dd30627-7a93-44cc-9bf9-3454ca80170a"
      },
      "execution_count": null,
      "outputs": [
        {
          "output_type": "stream",
          "name": "stdout",
          "text": [
            "Alice\n"
          ]
        }
      ]
    },
    {
      "cell_type": "markdown",
      "source": [
        "Q 24  Write a code to remove the key \"age\" from the dictionary {'name': 'Bob', 'age': 22, 'city': 'New York'}."
      ],
      "metadata": {
        "id": "T594sI9Za2r9"
      }
    },
    {
      "cell_type": "code",
      "source": [
        "my_dict={'name':'Bob','age':22,'city':'New York'}\n",
        "del my_dict['age']\n",
        "print(my_dict)"
      ],
      "metadata": {
        "colab": {
          "base_uri": "https://localhost:8080/"
        },
        "id": "_Nd8mjSqa8GK",
        "outputId": "181ea428-7a1d-4372-a019-bc3930c7e7ee"
      },
      "execution_count": null,
      "outputs": [
        {
          "output_type": "stream",
          "name": "stdout",
          "text": [
            "{'name': 'Bob', 'city': 'New York'}\n"
          ]
        }
      ]
    },
    {
      "cell_type": "markdown",
      "source": [
        "Q 25 . Write a code to check if the key \"city\" exists in the dictionary {'name': 'Alice', 'city': 'Paris'}."
      ],
      "metadata": {
        "id": "RvBtmfYYa8g1"
      }
    },
    {
      "cell_type": "code",
      "source": [
        "my_dict={'name':'Alice','city':'paris'}\n",
        "if 'city' in my_dict:\n",
        "  print(\"The key 'city ' exists.\")\n",
        "else:\n",
        "  print(\"The key 'city' does not exist.\")"
      ],
      "metadata": {
        "colab": {
          "base_uri": "https://localhost:8080/"
        },
        "id": "uOB98i7xbAc3",
        "outputId": "a72fd93f-be80-4fea-f814-7ee979a91892"
      },
      "execution_count": null,
      "outputs": [
        {
          "output_type": "stream",
          "name": "stdout",
          "text": [
            "The key 'city ' exists.\n"
          ]
        }
      ]
    },
    {
      "cell_type": "markdown",
      "source": [
        "Q 26 Write a code to create a list, a tuple, and a dictionary, and print them all."
      ],
      "metadata": {
        "id": "pE_ZF2T7bA_l"
      }
    },
    {
      "cell_type": "code",
      "source": [
        "my_list = [1,2,3]\n",
        "my_tuple=(4,5,6)\n",
        "my_dict={'key':'value'}\n",
        "print(my_list)\n",
        "print(my_list)\n",
        "print(my_dict)"
      ],
      "metadata": {
        "colab": {
          "base_uri": "https://localhost:8080/"
        },
        "id": "WyocP3u4bK5t",
        "outputId": "640bfbb6-b00f-41b3-b054-ffa24fa258ca"
      },
      "execution_count": null,
      "outputs": [
        {
          "output_type": "stream",
          "name": "stdout",
          "text": [
            "[1, 2, 3]\n",
            "[1, 2, 3]\n",
            "{'key': 'value'}\n"
          ]
        }
      ]
    },
    {
      "cell_type": "markdown",
      "source": [
        "Q 27  Write a code to create a list of 5 random numbers between 1 and 100, sort it in ascending order, and print the\n",
        "result.(replaced)."
      ],
      "metadata": {
        "id": "-WAXJxzebND7"
      }
    },
    {
      "cell_type": "code",
      "source": [
        "import random\n",
        "\n",
        "# Generate a list of unique random numbers\n",
        "n = 5  # Number of random numbers\n",
        "li = random.sample(range(1, 101), n)\n",
        "\n",
        "print(li)"
      ],
      "metadata": {
        "colab": {
          "base_uri": "https://localhost:8080/"
        },
        "id": "4bBJQKvwlsS5",
        "outputId": "4c2db0e9-7bcf-4795-f258-0959ef6697b4"
      },
      "execution_count": null,
      "outputs": [
        {
          "output_type": "stream",
          "name": "stdout",
          "text": [
            "[97, 43, 48, 76, 14]\n"
          ]
        }
      ]
    },
    {
      "cell_type": "markdown",
      "source": [
        "Q 28. Write a code to create a list with strings and print the element at the third index"
      ],
      "metadata": {
        "id": "YTH-uD6GbTsW"
      }
    },
    {
      "cell_type": "code",
      "source": [
        "my_list=[\"apple\",\"banana\",\"cherry\",\"data\"]\n",
        "thired_element=my_list[2]# index 2 is the  third element\n",
        "print(thired_element)"
      ],
      "metadata": {
        "colab": {
          "base_uri": "https://localhost:8080/"
        },
        "id": "mkgIFCaLbaql",
        "outputId": "a06b61b1-3863-410b-bcd9-c9b765ee657a"
      },
      "execution_count": null,
      "outputs": [
        {
          "output_type": "stream",
          "name": "stdout",
          "text": [
            "cherry\n"
          ]
        }
      ]
    },
    {
      "cell_type": "markdown",
      "source": [
        "Q 29  Write a code to combine two dictionaries into one and print the result."
      ],
      "metadata": {
        "id": "GbuS6hr8bbPX"
      }
    },
    {
      "cell_type": "code",
      "source": [
        "dict1={'a':1,'b':2}\n",
        "dict2={'c':3,'d':4}\n",
        "combined_dict={**dict1,**dict2}\n",
        "print(combined_dict)"
      ],
      "metadata": {
        "colab": {
          "base_uri": "https://localhost:8080/"
        },
        "id": "CBTAftYvbggH",
        "outputId": "27daf7c5-2b59-4e67-e26a-bffcc8aebbf6"
      },
      "execution_count": null,
      "outputs": [
        {
          "output_type": "stream",
          "name": "stdout",
          "text": [
            "{'a': 1, 'b': 2, 'c': 3, 'd': 4}\n"
          ]
        }
      ]
    },
    {
      "cell_type": "markdown",
      "source": [
        "Q 30  Write a code to convert a list of strings into a set."
      ],
      "metadata": {
        "id": "a2WU3CL_bhAO"
      }
    },
    {
      "cell_type": "code",
      "source": [
        "my_list=[\"apple\",\"banana\",\"apple\",\"orange\"]\n",
        "my_set=set(my_list)\n",
        "print(my_set)"
      ],
      "metadata": {
        "colab": {
          "base_uri": "https://localhost:8080/"
        },
        "id": "JBLRThribkxL",
        "outputId": "5f52f16f-90f6-4a10-ae5e-70b03d10af0f"
      },
      "execution_count": null,
      "outputs": [
        {
          "output_type": "stream",
          "name": "stdout",
          "text": [
            "{'apple', 'banana', 'orange'}\n"
          ]
        }
      ]
    }
  ]
}